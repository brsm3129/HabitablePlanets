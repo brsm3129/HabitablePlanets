{
 "cells": [
  {
   "cell_type": "markdown",
   "id": "4ce23fcf-a475-495f-8fc6-5a66daf0066b",
   "metadata": {},
   "source": [
    "## Habitable Planet Data Cleaning"
   ]
  },
  {
   "cell_type": "code",
   "execution_count": 3,
   "id": "fa908c80-fde5-4c86-b71b-d31103298d4f",
   "metadata": {},
   "outputs": [
    {
     "name": "stdout",
     "output_type": "stream",
     "text": [
      "  Name   = Gravitational constant\n",
      "  Value  = 6.6743e-11\n",
      "  Uncertainty  = 1.5e-15\n",
      "  Unit  = m3 / (kg s2)\n",
      "  Reference = CODATA 2018\n",
      "  Name   = Earth mass\n",
      "  Value  = 5.972167867791379e+24\n",
      "  Uncertainty  = 1.3422009501651213e+20\n",
      "  Unit  = kg\n",
      "  Reference = IAU 2015 Resolution B 3 + CODATA 2018\n",
      "  Name   = Nominal Earth equatorial radius\n",
      "  Value  = 6378100.0\n",
      "  Uncertainty  = 0.0\n",
      "  Unit  = m\n",
      "  Reference = IAU 2015 Resolution B 3\n"
     ]
    }
   ],
   "source": [
    "import pandas as pd\n",
    "import numpy as np\n",
    "\n",
    "print(G)\n",
    "print(M_earth)\n",
    "print(R_earth)\n",
    "\n",
    "\n",
    "# m3 / (kg s2)\n",
    "G = 6.67e-11\n",
    "\n",
    "# kg\n",
    "M_earth = 1.34e20\n",
    "\n",
    "#\n",
    "R_earth = 6378100\n"
   ]
  },
  {
   "cell_type": "code",
   "execution_count": null,
   "id": "9c032c6f-5855-4192-b012-55d757459240",
   "metadata": {},
   "outputs": [],
   "source": [
    "k_data = pd.read_csv(\"planet.csv\")\n",
    "k_data.columns = ['planet_name', 'num_stars', 'controv_flag', 'orbital_period', 'planet_semi-major_axis', 'planet_radius', 'planet_mass', 'eccentricity', 'insolation_flux', 'equi_temp', 'spectral_type', 'stellar_temp', 'stellar_radius', 'stellar_mass', 'distance']"
   ]
  },
  {
   "cell_type": "markdown",
   "id": "3553dd21-4ecc-429d-9632-3d571b99d5e3",
   "metadata": {},
   "source": [
    "planet_name = Name of Planet\n",
    "\n",
    "num_stars = Number of stars\n",
    "\n",
    "controv_flag = 0 if no controversy, else 1\n",
    "\n",
    "orbital_period = orbital period [days]\n",
    "\n",
    "planet_semi-major_axis = distance from star [au]\n",
    "\n",
    "planet_radius = planet radius [Earth Radius]\n",
    "\n",
    "planet_mass = planet mass [Earth Mass]\n",
    "\n",
    "eccentricity = amount by which orbit of planet deviates from a perfect circle (instability in temp)\n",
    "\n",
    "insolation_flux = Another form of equi_temp [Earth]\n",
    "\n",
    "equi_temp = planetary equilibrium (The equilibrium temperature of the planet as modeled by a black body heated only by its host star, or for directly imaged planets, the effective temperature of the planet required to match the measured luminosity if the planet were a black body)\n",
    "\n",
    "spectral_type = Classification based upon Morgan-Keenan system. (Hottest) O, B, A, F, G, K, and M (Coolest). Each letter class is then subdivided using a numeric digit with 0 being hottest and 9 being coolest. Luminosity class 0 or Ia+ is used for hypergiants, class I for supergiants, class II for bright giants, class III for regular giants, class IV for subgiants, class V for main-sequence stars, class sd (or VI) for subdwarfs, and class D (or VII) for white dwarfs.\n",
    "\n",
    "stellar_radius = radius of star [Sol Radius]\n",
    "\n",
    "stellar_mass = mass of star [Sol Mass]\n",
    "\n",
    "distance = distance from Earth [parsec]"
   ]
  },
  {
   "cell_type": "code",
   "execution_count": null,
   "id": "3c9e607f-99b4-4045-9a82-b9896de76629",
   "metadata": {},
   "outputs": [],
   "source": [
    "k_data.head()"
   ]
  },
  {
   "cell_type": "code",
   "execution_count": null,
   "id": "8d52a45d-dec0-424f-a95e-312e146bca82",
   "metadata": {},
   "outputs": [],
   "source": [
    "#Total rows\n",
    "k_data['planet_name'].count()"
   ]
  },
  {
   "cell_type": "code",
   "execution_count": null,
   "id": "83239bff-b28e-4829-b8f1-bda332289b66",
   "metadata": {},
   "outputs": [],
   "source": [
    "#Total planets\n",
    "k_data['planet_name'].nunique()"
   ]
  },
  {
   "cell_type": "code",
   "execution_count": null,
   "id": "5c9ba300-3142-4d6a-b782-8632e95dffb8",
   "metadata": {},
   "outputs": [],
   "source": [
    "#Take duplicates and average the data\n",
    "avg_data = k_data.groupby('planet_name').mean(numeric_only=True).reset_index()\n",
    "avg_data.reset_index(drop=True, inplace=True)\n",
    "avg_data.tail()"
   ]
  },
  {
   "cell_type": "code",
   "execution_count": null,
   "id": "909e01f4-a2ae-44e4-b1be-57ab1c21dfef",
   "metadata": {},
   "outputs": [],
   "source": [
    "def first_non_zero(s):\n",
    "    non_zero_values = s[s != '0']\n",
    "    if len(non_zero_values) > 0:\n",
    "        return non_zero_values.iloc[0]\n",
    "    else:\n",
    "        return '0'"
   ]
  },
  {
   "cell_type": "code",
   "execution_count": null,
   "id": "39275198-2e85-4d24-a430-077d7c72451e",
   "metadata": {},
   "outputs": [],
   "source": [
    "# Save Spectral_Type data\n",
    "k_data['spectral_type'] = k_data['spectral_type'].fillna('0').astype(str)\n",
    "spectral = k_data.groupby('planet_name')['spectral_type'].agg(first_non_zero)\n",
    "avg_data_reset_index = avg_data.reset_index()\n",
    "avg_data_with_spectral = pd.merge(avg_data_reset_index, spectral, on='planet_name', how='left')\n",
    "avg_data_with_spectral"
   ]
  },
  {
   "cell_type": "code",
   "execution_count": null,
   "id": "6c9d8181-927a-4cae-9b6c-004d75c5f044",
   "metadata": {},
   "outputs": [],
   "source": [
    "avg_data_with_spectral.rename(columns={'spectral_type_y' : 'spectral_type'}, inplace=True)\n",
    "avg_data = avg_data_with_spectral\n",
    "#avg_data.drop(columns=['spectral_type_x'], inplace=True)\n",
    "avg_data.head()"
   ]
  },
  {
   "cell_type": "code",
   "execution_count": null,
   "id": "72fcab74-8572-4763-85a0-87fca9e8f57b",
   "metadata": {},
   "outputs": [],
   "source": [
    "# Checking NAN counts for each row.\n",
    "for column in avg_data.columns:\n",
    "    nan_count = avg_data[column].isna().sum()\n",
    "    print(f\"Number of NaN values in '{column}': {nan_count}\")"
   ]
  },
  {
   "cell_type": "code",
   "execution_count": null,
   "id": "98ad739b-bc9e-4222-bcb9-9dadd1ae4aec",
   "metadata": {},
   "outputs": [],
   "source": [
    "#Remove rows that have controversy\n",
    "avg_data_filtered = avg_data.loc[avg_data['controv_flag'] != 1]\n",
    "avg_data_filtered.reset_index(drop=True, inplace=True)\n",
    "avg_data_filtered['controv_flag'].nunique()"
   ]
  },
  {
   "cell_type": "code",
   "execution_count": null,
   "id": "8468466f-a0e4-414e-bbd1-45858f15eb41",
   "metadata": {},
   "outputs": [],
   "source": [
    "proj_data = avg_data_filtered\n",
    "proj_data.head()"
   ]
  },
  {
   "cell_type": "code",
   "execution_count": null,
   "id": "b34c7eaa-2b43-4220-9ae7-09582adc5bd0",
   "metadata": {},
   "outputs": [],
   "source": [
    "proj_data2 = proj_data.drop(columns=['controv_flag'])\n",
    "proj_data2.head()"
   ]
  },
  {
   "cell_type": "markdown",
   "id": "9635b62e-14d0-42b9-b463-be3068c11eff",
   "metadata": {},
   "source": [
    "# Factoring in Earth\n",
    "\n",
    "Mass = 5.9722×10^24 kg\n",
    "\n",
    "Eccentricity =0.0034 and up to 0.058. AVG = 0.0307\n",
    "\n",
    "Radius = 3,958.8 miles\n",
    "\n",
    "Orbital Period = 365\n",
    "\n",
    "Semi-major Axis of Orbit = 149,598,023 km (or 92,955,902 miles)\n",
    "\n",
    "Insolation Flux = 1400 W/m\n",
    "\n",
    "Equilibrium Temp = 255 K\n",
    "\n",
    "Spectral Type = G-type (G2-V)\n",
    "\n",
    "Solar Mass = 1.989 × 10^30 kg\n",
    "\n",
    "Sol Radius = 695,700 kilometres"
   ]
  },
  {
   "cell_type": "code",
   "execution_count": null,
   "id": "8091a734-d273-492d-90a2-f96a87c23437",
   "metadata": {},
   "outputs": [],
   "source": [
    "columns = ['planet_name', 'num_stars', 'orbital_period', 'planet_semi-major_axis', 'planet_radius', 'planet_mass', 'eccentricity', 'insolation_flux', 'equi_temp', 'stellar_temp', 'stellar_radius', 'stellar_mass', 'distance']\n",
    "earth = pd.DataFrame(columns=columns)\n",
    "earth_data = {'planet_name' : 'Earth',\n",
    "              'num_stars' : 1,\n",
    "              'orbital_period' : 365,\n",
    "              'planet_semi-major_axis' : 1,\n",
    "              'planet_radius' : 1,\n",
    "              'planet_mass' : 1,\n",
    "              'eccentricity' : 0.0307,\n",
    "              'insolation_flux' : 0,\n",
    "              'equi_temp' : 255,\n",
    "              'stellar_temp' : 5800,\n",
    "              'stellar_radius' : 1,\n",
    "              'stellar_mass' : 1,\n",
    "              'distance' : 0\n",
    "}\n",
    "earth = earth.append(earth_data, ignore_index=True)\n",
    "earth"
   ]
  },
  {
   "cell_type": "markdown",
   "id": "cf8f8028-3a9d-4e56-9f24-97d0a612cd30",
   "metadata": {},
   "source": [
    "# Steps\n",
    "\n",
    "1) Calculate planets in habitable zone.\n",
    "\n",
    "    a) Planetary Equilibrium Temp is easiest. 175 K - 270 K\n",
    "    \n",
    "    b) Semi-major axis (distance from spectral body) and spectral type / stellar temp to estimate equi_temp\n",
    "    \n",
    "\n",
    "\n",
    "2) Clean data with planets that do not reside in the habitable zone"
   ]
  },
  {
   "cell_type": "code",
   "execution_count": null,
   "id": "187d01da-dfc2-4ca7-8085-00888c5fa03d",
   "metadata": {},
   "outputs": [],
   "source": [
    "# How many planets are habitable based upon our current count?\n",
    "k_data = proj_data2\n",
    "habitable = k_data[(k_data['equi_temp'] >= 175) & (k_data['equi_temp'] <= 270)]\n",
    "count = habitable['planet_name'].count()\n",
    "missing = k_data['equi_temp'].isna().sum()\n",
    "print(count, \"planets with equilibrium temp within acceptable habitable zone parameters.\", missing, \"NAN values\")"
   ]
  },
  {
   "cell_type": "code",
   "execution_count": null,
   "id": "4cfb934b-b872-430d-acd3-d08e1225f6b3",
   "metadata": {},
   "outputs": [],
   "source": [
    "habitable"
   ]
  },
  {
   "cell_type": "code",
   "execution_count": null,
   "id": "f403d33d-695a-4857-bacb-e143e3ae1bbc",
   "metadata": {},
   "outputs": [],
   "source": [
    "# counts after removal of controversies\n",
    "proj_data2.count()"
   ]
  },
  {
   "cell_type": "markdown",
   "id": "daef14b4-6bff-4b9a-b2bb-f26599394cdc",
   "metadata": {},
   "source": [
    "# Solving Missing Equilibrium Temperature"
   ]
  },
  {
   "cell_type": "code",
   "execution_count": null,
   "id": "d238ab06-c6c8-4a78-a98d-bc410f653fbb",
   "metadata": {},
   "outputs": [],
   "source": [
    "# Does insolation_flux help?\n",
    "miss_temp = k_data[k_data['equi_temp'].isna()]\n",
    "#miss_temp.count()\n",
    "# 93 counts with insolation flux\n",
    "insol_flux = k_data[~k_data['insolation_flux'].isna()]\n",
    "insol_flux.head()"
   ]
  },
  {
   "cell_type": "code",
   "execution_count": null,
   "id": "bb457004-c3b8-4cf3-9300-51e251aea025",
   "metadata": {},
   "outputs": [],
   "source": [
    "insol_habit = insol_flux[(insol_flux['insolation_flux'] >= 175) & (insol_flux['insolation_flux'] <= 300)]\n",
    "both_habit = insol_habit[(insol_habit['equi_temp'] < 800)]\n",
    "both_habit"
   ]
  },
  {
   "cell_type": "markdown",
   "id": "f4231f93-6017-4d43-815e-c26ec5ae9ce8",
   "metadata": {},
   "source": [
    "# Conclusion on Insolation Flux\n",
    "\n",
    "Useless parameter, the planet's who's insolation flux have an equilibrium temperature that is too high to sustain life."
   ]
  },
  {
   "cell_type": "code",
   "execution_count": null,
   "id": "584e8c7c-aab9-49b9-b095-5390fc140411",
   "metadata": {},
   "outputs": [],
   "source": [
    "#removing insolation flux from dataframe\n",
    "k_data = k_data.drop(columns=['insolation_flux'])\n",
    "no_flux = k_data\n",
    "no_flux.head()"
   ]
  },
  {
   "cell_type": "markdown",
   "id": "065ef27a-aca3-48d6-b295-9484ec30fcd5",
   "metadata": {},
   "source": [
    "# Continuation of finding NAN equi_temp\n",
    "\n",
    "Let $T_{s} = $ temperature of star, $R = $ radius of star, $a = $ semi-major axis, and $A_{B} = $ Bond Albedo\n",
    "\n",
    "$T_{eq} = T_{s}\\sqrt{\\frac{R}{2a}}(1-A_{B})^{\\frac{1}{4}}$\n",
    "\n",
    "However, we don't have Bond Albedo, and if we did then the scientists that have been focused on this effort would have already done the math...\n",
    "\n",
    "BUT WE CAN ESTIMATE!!!\n",
    "\n",
    "Earth's Bond Albedo is 0.29\n",
    "\n",
    "Bond Albedo is primarily affected by atmosphere. More clouds, more albedo.\n",
    "\n",
    "Would it be wrong to take an average of all of our planet's bond albedos as our $A_{B}$?"
   ]
  },
  {
   "cell_type": "code",
   "execution_count": null,
   "id": "cf404b60-a99f-4a5e-bc64-cc3631f1c902",
   "metadata": {},
   "outputs": [],
   "source": [
    "no_flux.head()"
   ]
  },
  {
   "cell_type": "markdown",
   "id": "dafc012c-172d-4125-ad6b-dbf73482aa77",
   "metadata": {},
   "source": [
    "Using 11 Com b as a trial run. $0.3535 = $ average bond albedo sol system planets. Acknowledging this probably only works for G Type stars that are similar to Sol.\n",
    "\n",
    "Let $T_{s} = 4808$  $R = 11395566$, $a = 183407176$, and $A_{B} = 0.3535$\n",
    "\n",
    "\n",
    "$T_{eq} = (4808)\\sqrt{\\frac{11395566}{2 * 183407176}}(1 - 0.3535)^{\\frac{1}{4}}$\n",
    "\n",
    "$T_{eq} = (4808)\\sqrt{\\frac{11395566}{366814352}}(0.6465)^{\\frac{1}{4}}$\n",
    "\n",
    "$T_{eq} = 847.44(0.89669)$\n",
    "\n",
    "$T_{eq} = 759.89$\n",
    "\n",
    "Does this seem right? $1.22$ times further from star. The star is a giant but is colder than Sol. $16$ times larger radius really \n",
    "\n",
    "Let's try this same calculation with Earth and see if it's at least similar.\n",
    "\n",
    "Let $T_{s} = 5800$  $R = 695700$, $a = 149598023$, and $A_{B} = 0.3535$\n",
    "\n",
    "\n",
    "$T_{eq} = (5800)\\sqrt{\\frac{695700}{2 * 149598023}}(1 - 0.3535)^{\\frac{1}{4}}$\n",
    "\n",
    "$T_{eq} = 279.68(0.89669)$\n",
    "\n",
    "$T_{eq} = 250.79$\n",
    "\n",
    "Actual $= 255$\n",
    "\n",
    "Error $= |Actual - Estimate| = 4.21$\n",
    "\n",
    "While that is not how one is supposed to calculate inter-solar equilibrium temperature, that was closer than what I was expecting."
   ]
  },
  {
   "cell_type": "code",
   "execution_count": null,
   "id": "f5bc863c-be54-4c69-a4b7-c3179a0e438e",
   "metadata": {},
   "outputs": [],
   "source": [
    "#Function to fill in missing equi_temp\n",
    "def calc_equi_temp(row):\n",
    "    if np.isnan(row['equi_temp']): \n",
    "        stellar_temp = row['stellar_temp']\n",
    "        stellar_radius = row['stellar_radius']\n",
    "        a = row['planet_semi-major_axis']\n",
    "        stellar_rad = stellar_radius * 695700\n",
    "        b = a * 149598023\n",
    "        #print(stellar_temp)\n",
    "        #print(stellar_rad)\n",
    "        #print(b)\n",
    "        return stellar_temp * np.sqrt(stellar_rad / (2 * b)) * 0.89669\n",
    "    else:\n",
    "        return row['equi_temp']"
   ]
  },
  {
   "cell_type": "code",
   "execution_count": null,
   "id": "07718de1-3d42-43b1-afcf-b9f44dd4ba9d",
   "metadata": {},
   "outputs": [],
   "source": [
    "trial = no_flux.copy(deep=True)"
   ]
  },
  {
   "cell_type": "code",
   "execution_count": null,
   "id": "c519b9ec-46b4-4df3-b994-f435c2a90c44",
   "metadata": {},
   "outputs": [],
   "source": [
    "trial['equi_temp'] = trial.apply(calc_equi_temp, axis=1)\n",
    "trial.head()"
   ]
  },
  {
   "cell_type": "code",
   "execution_count": null,
   "id": "3b984c7b-a192-4be6-8323-4ee7e69c6dd1",
   "metadata": {},
   "outputs": [],
   "source": [
    "#Remove the two White Dwarves, did the math, wouldn't matter to the data\n",
    "trial = trial[~trial['spectral_type'].str.contains('WD')]"
   ]
  },
  {
   "cell_type": "code",
   "execution_count": null,
   "id": "945a3f14-8b0a-43fd-9abf-29b8d8038e0a",
   "metadata": {},
   "outputs": [],
   "source": [
    "# Now let's see how many stars we have in the habitable.\n",
    "habitable2 = trial[(trial['equi_temp'] >= 175) & (trial['equi_temp'] <= 270)]\n",
    "count2 = habitable2['planet_name'].count()\n",
    "missing2 = trial['equi_temp'].isna().sum()\n",
    "print(count2, \"planets with equilibrium temp within acceptable habitable zone parameters.\", missing2, \"NAN values\")"
   ]
  },
  {
   "cell_type": "code",
   "execution_count": null,
   "id": "105da77f-3b6c-4b94-81c3-d3305a61db59",
   "metadata": {},
   "outputs": [],
   "source": [
    "still_missing = trial[trial['equi_temp'].isna()]\n",
    "still_missing.count()"
   ]
  },
  {
   "cell_type": "markdown",
   "id": "1ba70f61-32ce-4e7b-a713-94464e98978d",
   "metadata": {},
   "source": [
    "# Problem\n",
    "\n",
    "If stellar temp, stellar radius, or planet_sma are NAN then unable to find equilibrium, meaning 600 possible planets are still unknown.\n",
    "\n",
    "For stellar temp, since we know the spectral type in some instances we can further approximate. \n",
    "\n",
    "Will use this page for temperature. https://sites.uni.edu/morgans/astro/course/Notes/section2/spectraltemps.html\n",
    "\n",
    "For Stellar Radius we may have to interpolate.\n",
    "\n",
    "Rows without spectral types will be removed below."
   ]
  },
  {
   "cell_type": "code",
   "execution_count": null,
   "id": "b645a76f-bea2-434a-b108-eb13c19b0d19",
   "metadata": {},
   "outputs": [],
   "source": [
    "#Removes rows missing spectral type. Lose ~400 rows\n",
    "still_missing = still_missing[still_missing['spectral_type'] != '0']\n",
    "still_missing.count()"
   ]
  },
  {
   "cell_type": "code",
   "execution_count": null,
   "id": "dbb9bbc5-e7fa-4700-962d-e7ac9fdb4d7b",
   "metadata": {},
   "outputs": [],
   "source": [
    "#separating spectral_type into two\n",
    "split_columns = still_missing['spectral_type'].str.split(expand=True)\n",
    "still_missing['spectral_type'] = split_columns[0]\n",
    "still_missing['spectral_subtype'] = split_columns[1] if len(split_columns.columns) > 1 else np.nan\n",
    "still_missing.count()"
   ]
  },
  {
   "cell_type": "code",
   "execution_count": null,
   "id": "5f4b1d88-c948-41b3-a98f-ad30fba7f444",
   "metadata": {},
   "outputs": [],
   "source": [
    "# function to fill in missing stellar_temp\n",
    "def fill_stellar_temp(df):\n",
    "    III_mapping = {\n",
    "        #O type Full Info\n",
    "        'O5': 54000,\n",
    "        'O6': 45000,\n",
    "        'O7': 43300,\n",
    "        'O8': 40600,\n",
    "        'O9': 37800,\n",
    "        \n",
    "        #B type Full Info\n",
    "        'B0': 29200,\n",
    "        'B1': 23000,\n",
    "        'B2': 21000,\n",
    "        'B3': 17600,\n",
    "        'B5': 15200,\n",
    "        'B6': 14300,\n",
    "        'B7': 13500,\n",
    "        'B8': 12300,\n",
    "        'B9': 11400,\n",
    "        \n",
    "        #A type Full Info\n",
    "        'A0': 9600,\n",
    "        'A1': 9330,\n",
    "        'A2': 9040,\n",
    "        'A3': 8750,\n",
    "        'A4': 8480,\n",
    "        'A5': 8310,\n",
    "        'A7': 7920,\n",
    "        \n",
    "        #F type Full Info\n",
    "        'F0': 7350,\n",
    "        'F2': 7050,\n",
    "        'F3': 6850,\n",
    "        'F5': 6700,\n",
    "        'F6': 6550,\n",
    "        'F7': 6400,\n",
    "        'F8': 6300,\n",
    "        \n",
    "        #G type Full Info\n",
    "        'G0': 6050,\n",
    "        'G1': 5930,\n",
    "        'G2': 5800,\n",
    "        'G5': 5660,\n",
    "        'G8': 5440,\n",
    "        \n",
    "        #K type Full Info\n",
    "        'K0': 5240,\n",
    "        'K1': 5110,\n",
    "        'K2': 4960,\n",
    "        'K3': 4800,\n",
    "        'K4': 4600,\n",
    "        'K5': 4400,\n",
    "        'K7': 4000,\n",
    "        \n",
    "        #M type Full Info\n",
    "        'M0': 3750,\n",
    "        'M1': 3700,\n",
    "        'M2': 3600,\n",
    "        'M3': 3500,\n",
    "        'M4': 3400,\n",
    "        'M5': 3200,\n",
    "        'M6': 3100,\n",
    "        'M7': 3900,\n",
    "        'M8': 2700\n",
    "    }\n",
    "    \n",
    "    for index, row in df.iterrows():\n",
    "        if pd.isna(row['stellar_temp']):\n",
    "            spectral_type = row['spectral_type']\n",
    "            if spectral_type in III_mapping:\n",
    "                df.at[index, 'stellar_temp'] = III_mapping[spectral_type]\n",
    "    \n",
    "    return df\n",
    "\n",
    "filled_trial = fill_stellar_temp(still_missing)\n",
    "filled_trial.head(50)"
   ]
  },
  {
   "cell_type": "code",
   "execution_count": null,
   "id": "ced35ae2-6c78-4e95-845e-cd1367c7bce9",
   "metadata": {},
   "outputs": [],
   "source": [
    "#nan_count = filled_trial['stellar_temp'].isna().sum()\n",
    "#nan_count"
   ]
  },
  {
   "cell_type": "code",
   "execution_count": null,
   "id": "cdb4098d-00a4-4380-822f-f452510e4dd9",
   "metadata": {},
   "outputs": [],
   "source": [
    "#filled_trial[filled_trial['stellar_temp'] == 4960].count()"
   ]
  },
  {
   "cell_type": "code",
   "execution_count": null,
   "id": "e8f49a03-1608-4a07-bc19-1cf889fc8324",
   "metadata": {},
   "outputs": [],
   "source": [
    "#trial[trial['stellar_temp'] == 4960].count()"
   ]
  },
  {
   "cell_type": "code",
   "execution_count": null,
   "id": "8a8ef23a-8318-434b-80bb-57908e3e20f0",
   "metadata": {},
   "outputs": [],
   "source": [
    "filled_trial = filled_trial.dropna(subset=['stellar_temp'])"
   ]
  },
  {
   "cell_type": "code",
   "execution_count": null,
   "id": "00b7e36b-9154-4f66-8d5e-94255eeaf978",
   "metadata": {},
   "outputs": [],
   "source": [
    "filled_trial.count()"
   ]
  },
  {
   "cell_type": "code",
   "execution_count": null,
   "id": "1118e286-bfb6-4c91-88aa-70feb9bb5979",
   "metadata": {},
   "outputs": [],
   "source": [
    "# Okay we now have 187 additional stellar temps calculated. \n",
    "# Let's fill in missing Semi-Major_axis based upon orbital period\n",
    "filled_trial.loc[filled_trial['planet_semi-major_axis'].isna(), 'planet_semi-major_axis'] = (filled_trial['orbital_period']**2)**(1/3)\n",
    "filled_trial.count()\n",
    "#filled_trial.head(50)"
   ]
  },
  {
   "cell_type": "code",
   "execution_count": null,
   "id": "e1859ff4-ab87-4f03-9279-315587ad3cd4",
   "metadata": {},
   "outputs": [],
   "source": [
    "# Now we see we filled in missing planet_sma based upon Kepler's Third Law.\n",
    "# Once more we can run our calc_equi_temp on 42 exo-planets since we have 42 stellar radius\n",
    "# However that leaves us with 145 planets still unable to calculate due to missing stellar radius.\n",
    "filled_trial['equi_temp'] = filled_trial.apply(calc_equi_temp, axis=1)\n",
    "filled_trial.count()"
   ]
  },
  {
   "cell_type": "code",
   "execution_count": null,
   "id": "24514be8-3876-454f-8da3-35dbf1be6ab5",
   "metadata": {},
   "outputs": [],
   "source": [
    "habitable3 = filled_trial[(filled_trial['equi_temp'] >= 175) & (filled_trial['equi_temp'] <= 270)]\n",
    "count3 = habitable3['planet_name'].count()\n",
    "missing3 = filled_trial['equi_temp'].isna().sum()\n",
    "print(count3, \"planets with equilibrium temp within acceptable habitable zone parameters.\", missing3, \"NAN values\")"
   ]
  },
  {
   "cell_type": "code",
   "execution_count": null,
   "id": "ad46ded7-d982-40b9-8c44-454b4b98b069",
   "metadata": {},
   "outputs": [],
   "source": [
    "# Merge three habitable dataframes\n",
    "\n",
    "habitable_true = pd.concat([habitable, habitable2, habitable3], ignore_index=True)\n",
    "habitable_true.count()"
   ]
  },
  {
   "cell_type": "code",
   "execution_count": null,
   "id": "e72caea0-67a8-4606-8af5-95280c89b858",
   "metadata": {},
   "outputs": [],
   "source": [
    "# Secondary clean up due to messy data being merged.\n",
    "\n",
    "# Remove Flux once again\n",
    "habitable_true.drop(columns=['insolation_flux'])\n",
    "\n",
    "# Split spectral type\n",
    "split_columns = habitable_true['spectral_type'].str.split(expand=True)\n",
    "habitable_true['spectral_type'] = split_columns[0]\n",
    "habitable_true['spectral_subtype'] = split_columns[1] if len(split_columns.columns) > 1 else np.nan"
   ]
  },
  {
   "cell_type": "code",
   "execution_count": null,
   "id": "553c3864-f9bc-4c9d-984f-06e8532e7919",
   "metadata": {},
   "outputs": [],
   "source": [
    "# Something is wrong. Habit1 = 78, Habit2 = 212, Habit3 = 3\n",
    "# Found it. Accidentally ran concat more than once. \n",
    "# But also found out each habitable had duplicates that needed to be removed.\n",
    "habitable_true.drop_duplicates(subset='planet_name', inplace=True)\n",
    "\n",
    "habitable_true.reset_index(inplace=True)\n",
    "habitable_true"
   ]
  },
  {
   "cell_type": "code",
   "execution_count": null,
   "id": "152afb8e-96c8-45a0-b91f-0324135a3980",
   "metadata": {},
   "outputs": [],
   "source": [
    "habitable_true[\"planet_density\"] = habitable_true[\"planet_mass\"] / (habitable_true[\"planet_radius\"] ** 3)\n",
    "habitable_true[\"planet_surface_gravity\"] = G * (habitable_true[\"planet_mass\"] * M_earth )/ ((habitable_true[\"planet_radius\"] * R_earth) ** 2)\n",
    "habitable_true[\"planet_dist_to_sellar_radius_ratio\"] = habitable_true[\"planet_semi-major_axis\"] / habitable_true[\"stellar_radius\"]\n",
    "\n",
    "habitable_true.plot(x=\"planet_semi-major_axis\", y=\"planet_radius\", kind=\"scatter\", logx=True, logy=True)\n",
    "habitable_true.plot(x=\"planet_semi-major_axis\", y=\"planet_mass\", kind=\"scatter\", logx=True, logy=True)\n",
    "habitable_true.plot(x=\"stellar_radius\", y=\"planet_density\", kind=\"scatter\", logx=True, logy=True)\n",
    "habitable_true.plot(x=\"insolation_flux\", y=\"planet_mass\", kind=\"scatter\", logx=True, logy=True)\n",
    "habitable_true.plot(x=\"planet_semi-major_axis\", y=\"planet_surface_gravity\", kind=\"scatter\", logx=True, logy=True)\n",
    "habitable_true.plot(x=\"planet_dist_to_sellar_radius_ratio\", y=\"planet_surface_gravity\", kind=\"scatter\", logx=True, logy=True)\n",
    "habitable_true.corr()\n",
    "\n",
    "habitable_true.to_csv(\"habitable_true.csv\")\n",
    "\n",
    "\n",
    "# eq_temp \n",
    "# density\n",
    "# mass\n",
    "\n",
    "# error analysis - how close to earth"
   ]
  },
  {
   "cell_type": "code",
   "execution_count": null,
   "id": "92eaf760-5298-4a05-85ce-f94d150eee65",
   "metadata": {},
   "outputs": [],
   "source": []
  }
 ],
 "metadata": {
  "kernelspec": {
   "display_name": "Python 3 (ipykernel)",
   "language": "python",
   "name": "python3"
  },
  "language_info": {
   "codemirror_mode": {
    "name": "ipython",
    "version": 3
   },
   "file_extension": ".py",
   "mimetype": "text/x-python",
   "name": "python",
   "nbconvert_exporter": "python",
   "pygments_lexer": "ipython3",
   "version": "3.10.8"
  }
 },
 "nbformat": 4,
 "nbformat_minor": 5
}
