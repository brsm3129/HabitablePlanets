{
 "cells": [
  {
   "cell_type": "code",
   "execution_count": 3,
   "id": "9ec5f6c4-2e38-4045-b0f6-6e80f03db4bf",
   "metadata": {},
   "outputs": [],
   "source": [
    "import pandas as pd\n",
    "import numpy as np\n",
    "\n",
    "# m3 / (kg s2)\n",
    "G = 6.67e-11\n",
    "\n",
    "# kg\n",
    "M_earth = 1.34e20\n",
    "\n",
    "# m\n",
    "R_earth = 6378100"
   ]
  },
  {
   "cell_type": "code",
   "execution_count": null,
   "id": "a4fa5b53-16fd-4859-b0ea-a94f73e12633",
   "metadata": {},
   "outputs": [],
   "source": []
  }
 ],
 "metadata": {
  "kernelspec": {
   "display_name": "Python 3 (ipykernel)",
   "language": "python",
   "name": "python3"
  },
  "language_info": {
   "codemirror_mode": {
    "name": "ipython",
    "version": 3
   },
   "file_extension": ".py",
   "mimetype": "text/x-python",
   "name": "python",
   "nbconvert_exporter": "python",
   "pygments_lexer": "ipython3",
   "version": "3.10.8"
  }
 },
 "nbformat": 4,
 "nbformat_minor": 5
}
